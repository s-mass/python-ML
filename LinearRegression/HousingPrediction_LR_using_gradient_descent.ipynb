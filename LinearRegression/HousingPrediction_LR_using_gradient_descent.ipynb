{
 "cells": [
  {
   "cell_type": "code",
   "execution_count": 12,
   "id": "20354091",
   "metadata": {},
   "outputs": [],
   "source": [
    "# import necessary libraries\n",
    "\n",
    "import pandas as pd\n",
    "import numpy as np\n",
    "import matplotlib.pyplot as plt\n",
    "import math\n",
    "from scipy import stats "
   ]
  },
  {
   "cell_type": "code",
   "execution_count": 13,
   "id": "ced85eff",
   "metadata": {},
   "outputs": [],
   "source": [
    "df = pd.read_csv('housing.csv')"
   ]
  },
  {
   "cell_type": "code",
   "execution_count": 14,
   "id": "6e367abf",
   "metadata": {},
   "outputs": [],
   "source": [
    "# dropping unecessary columns\n",
    "\n",
    "df.drop(['bedrooms', 'bathrooms', 'stories', 'mainroad', 'guestroom', 'basement', 'hotwaterheating', \n",
    "         'airconditioning', 'parking', 'prefarea', 'furnishingstatus'], axis=1, inplace=True)"
   ]
  },
  {
   "cell_type": "code",
   "execution_count": 15,
   "id": "57221d8c",
   "metadata": {},
   "outputs": [
    {
     "data": {
      "text/html": [
       "<div>\n",
       "<style scoped>\n",
       "    .dataframe tbody tr th:only-of-type {\n",
       "        vertical-align: middle;\n",
       "    }\n",
       "\n",
       "    .dataframe tbody tr th {\n",
       "        vertical-align: top;\n",
       "    }\n",
       "\n",
       "    .dataframe thead th {\n",
       "        text-align: right;\n",
       "    }\n",
       "</style>\n",
       "<table border=\"1\" class=\"dataframe\">\n",
       "  <thead>\n",
       "    <tr style=\"text-align: right;\">\n",
       "      <th></th>\n",
       "      <th>area</th>\n",
       "      <th>price</th>\n",
       "    </tr>\n",
       "  </thead>\n",
       "  <tbody>\n",
       "    <tr>\n",
       "      <th>0</th>\n",
       "      <td>7420</td>\n",
       "      <td>13300000</td>\n",
       "    </tr>\n",
       "    <tr>\n",
       "      <th>1</th>\n",
       "      <td>8960</td>\n",
       "      <td>12250000</td>\n",
       "    </tr>\n",
       "    <tr>\n",
       "      <th>2</th>\n",
       "      <td>9960</td>\n",
       "      <td>12250000</td>\n",
       "    </tr>\n",
       "    <tr>\n",
       "      <th>3</th>\n",
       "      <td>7500</td>\n",
       "      <td>12215000</td>\n",
       "    </tr>\n",
       "    <tr>\n",
       "      <th>4</th>\n",
       "      <td>7420</td>\n",
       "      <td>11410000</td>\n",
       "    </tr>\n",
       "    <tr>\n",
       "      <th>...</th>\n",
       "      <td>...</td>\n",
       "      <td>...</td>\n",
       "    </tr>\n",
       "    <tr>\n",
       "      <th>540</th>\n",
       "      <td>3000</td>\n",
       "      <td>1820000</td>\n",
       "    </tr>\n",
       "    <tr>\n",
       "      <th>541</th>\n",
       "      <td>2400</td>\n",
       "      <td>1767150</td>\n",
       "    </tr>\n",
       "    <tr>\n",
       "      <th>542</th>\n",
       "      <td>3620</td>\n",
       "      <td>1750000</td>\n",
       "    </tr>\n",
       "    <tr>\n",
       "      <th>543</th>\n",
       "      <td>2910</td>\n",
       "      <td>1750000</td>\n",
       "    </tr>\n",
       "    <tr>\n",
       "      <th>544</th>\n",
       "      <td>3850</td>\n",
       "      <td>1750000</td>\n",
       "    </tr>\n",
       "  </tbody>\n",
       "</table>\n",
       "<p>545 rows × 2 columns</p>\n",
       "</div>"
      ],
      "text/plain": [
       "     area     price\n",
       "0    7420  13300000\n",
       "1    8960  12250000\n",
       "2    9960  12250000\n",
       "3    7500  12215000\n",
       "4    7420  11410000\n",
       "..    ...       ...\n",
       "540  3000   1820000\n",
       "541  2400   1767150\n",
       "542  3620   1750000\n",
       "543  2910   1750000\n",
       "544  3850   1750000\n",
       "\n",
       "[545 rows x 2 columns]"
      ]
     },
     "execution_count": 15,
     "metadata": {},
     "output_type": "execute_result"
    }
   ],
   "source": [
    "df[['area','price']]"
   ]
  },
  {
   "cell_type": "code",
   "execution_count": 16,
   "id": "338fc6b1",
   "metadata": {},
   "outputs": [
    {
     "data": {
      "text/plain": [
       "Text(0, 0.5, 'Price in dollars')"
      ]
     },
     "execution_count": 16,
     "metadata": {},
     "output_type": "execute_result"
    },
    {
     "data": {
      "text/plain": [
       "<Figure size 800x600 with 0 Axes>"
      ]
     },
     "metadata": {},
     "output_type": "display_data"
    },
    {
     "data": {
      "image/png": "[encoded data removed]",
      "text/plain": [
       "<Figure size 640x480 with 1 Axes>"
      ]
     },
     "metadata": {},
     "output_type": "display_data"
    }
   ],
   "source": [
    "# Plotting the data\n",
    "\n",
    "plt.figure(figsize=(8,6))\n",
    "df.plot.scatter(x = 'area', y = 'price', c='DarkBlue', marker='+')\n",
    "\n",
    "plt.title(\"Price of house vs. the Area of house\")\n",
    "plt.xlabel('Area in sqft')\n",
    "plt.ylabel('Price in dollars')"
   ]
  },
  {
   "cell_type": "code",
   "execution_count": 17,
   "id": "0a104f87",
   "metadata": {},
   "outputs": [],
   "source": [
    "# Standardizing the data \n",
    "\n",
    "df['area'] = stats.zscore(df['area']) \n",
    "df['price'] = stats.zscore(df['price']) "
   ]
  },
  {
   "cell_type": "code",
   "execution_count": 18,
   "id": "262afa4c",
   "metadata": {},
   "outputs": [],
   "source": [
    "# Splitting the data into dependant and indepedant variables\n",
    "\n",
    "x = df['area'].iloc[:]\n",
    "y = df['price'].iloc[:]"
   ]
  },
  {
   "cell_type": "code",
   "execution_count": 19,
   "id": "7facd8c9",
   "metadata": {},
   "outputs": [],
   "source": [
    "# Compute cost \n",
    "\n",
    "def compute_cost(x, y, w, b): \n",
    "\n",
    "    # number of training examples\n",
    "    m = x.shape[0] \n",
    "    \n",
    "    cost_sum = 0 \n",
    "    for i in range(m): \n",
    "        f_wb = w * x[i] + b   \n",
    "        cost = (f_wb - y[i]) ** 2  \n",
    "        cost_sum = cost_sum + cost  \n",
    "    total_cost = (1 / (2 * m)) * cost_sum  \n",
    "\n",
    "    return total_cost"
   ]
  },
  {
   "cell_type": "code",
   "execution_count": 20,
   "id": "57af881a",
   "metadata": {},
   "outputs": [],
   "source": [
    "# Compute partial derivatives\n",
    "\n",
    "def compute_gradient(x, y, w, b): \n",
    "\n",
    "    m = x.shape[0]\n",
    "    \n",
    "    dj_dw = 0\n",
    "    dj_db = 0\n",
    "    \n",
    "    for i in range(m):\n",
    "        f_wb = w*x[i] + b\n",
    "        \n",
    "        dj_db_i = f_wb - y[i]\n",
    "        dj_dw_i = (f_wb - y[i]) * x[i]\n",
    "        dj_db += dj_db_i \n",
    "        dj_dw += dj_dw_i \n",
    "        \n",
    "    dj_db = (1/m)*dj_db\n",
    "    dj_dw = (1/m)*dj_dw\n",
    "\n",
    "        \n",
    "    return dj_dw, dj_db"
   ]
  },
  {
   "cell_type": "code",
   "execution_count": 23,
   "id": "1a905c40",
   "metadata": {},
   "outputs": [],
   "source": [
    "# Compute gradient descent\n",
    "\n",
    "def gradient_descent(x, y, w_in, b_in, cost_function, gradient_function, learning_rate, num_iters): \n",
    "\n",
    "    # number of training examples\n",
    "    m = len(x)\n",
    "    \n",
    "    # An array to store cost J and w's at each iteration — primarily for graphing later\n",
    "    J_history = []\n",
    "    w_history = []\n",
    "    w = w_in  \n",
    "    b = b_in\n",
    "    \n",
    "    for i in range(num_iters):\n",
    "\n",
    "        # Calculate the gradient and update the parameters\n",
    "        dj_dw, dj_db = gradient_function(x, y, w, b )  \n",
    "\n",
    "        # Update Parameters using w, b, learning_rate and gradient\n",
    "        w = w - learning_rate * dj_dw               \n",
    "        b = b - learning_rate * dj_db               \n",
    "\n",
    "        # Save cost J at each iteration\n",
    "        if i<100000:     \n",
    "            cost =  cost_function(x, y, w, b)\n",
    "            J_history.append(cost)\n",
    "\n",
    "        # Print cost every at intervals 10 times or as many iterations if < 10\n",
    "        if i% math.ceil(num_iters/10) == 0:\n",
    "            w_history.append(w)\n",
    "            print(f\"Iteration {i:4}: Cost {float(J_history[-1]):8.2f}   \")\n",
    "        \n",
    "   \n",
    "    return w, b, J_history, w_history #return w and J,w history for graphing"
   ]
  },
  {
   "cell_type": "code",
   "execution_count": 24,
   "id": "02c06833",
   "metadata": {},
   "outputs": [
    {
     "name": "stdout",
     "output_type": "stream",
     "text": [
      "Iteration    0: Cost     0.50   \n",
      "Iteration  150: Cost     0.36   \n",
      "Iteration  300: Cost     0.36   \n",
      "Iteration  450: Cost     0.36   \n",
      "Iteration  600: Cost     0.36   \n",
      "Iteration  750: Cost     0.36   \n",
      "Iteration  900: Cost     0.36   \n",
      "Iteration 1050: Cost     0.36   \n",
      "Iteration 1200: Cost     0.36   \n",
      "Iteration 1350: Cost     0.36   \n",
      "w,b found by gradient descent: 0.5359971937392443 2.413808195117143e-16\n"
     ]
    }
   ],
   "source": [
    "# initialize fitting parameters. \n",
    "initial_w = 0.0\n",
    "initial_b = 0.0\n",
    "\n",
    "# some gradient descent settings\n",
    "iterations = 1500\n",
    "learning_rate = 0.01\n",
    "\n",
    "w,b,_,_ = gradient_descent(x ,y, initial_w, initial_b, \n",
    "                     compute_cost, compute_gradient, learning_rate, iterations)\n",
    "print(\"w,b found by gradient descent:\", w, b)"
   ]
  },
  {
   "cell_type": "code",
   "execution_count": 25,
   "id": "1b0125db",
   "metadata": {},
   "outputs": [],
   "source": [
    "# Predicted Y values (regression line)\n",
    "    \n",
    "y_pred = w * x + b   "
   ]
  },
  {
   "cell_type": "code",
   "execution_count": 26,
   "id": "2b52bb99",
   "metadata": {},
   "outputs": [
    {
     "data": {
      "text/plain": [
       "Text(0.5, 0, 'Area')"
      ]
     },
     "execution_count": 26,
     "metadata": {},
     "output_type": "execute_result"
    },
    {
     "data": {
      "image/png": "[encoded data removed]",
      "text/plain": [
       "<Figure size 640x480 with 1 Axes>"
      ]
     },
     "metadata": {},
     "output_type": "display_data"
    }
   ],
   "source": [
    "# Plot the linear fit\n",
    "plt.plot(x, y_pred, c = \"r\", linewidth=1.0)\n",
    "\n",
    "plt.scatter(x, y, c='DarkBlue', marker='+') \n",
    "\n",
    "plt.title(\"Price vs. Area\")\n",
    "plt.ylabel('Price')\n",
    "plt.xlabel('Area')"
   ]
  }
 ],
 "metadata": {
  "kernelspec": {
   "display_name": "Python 3 (ipykernel)",
   "language": "python",
   "name": "python3"
  },
  "language_info": {
   "codemirror_mode": {
    "name": "ipython",
    "version": 3
   },
   "file_extension": ".py",
   "mimetype": "text/x-python",
   "name": "python",
   "nbconvert_exporter": "python",
   "pygments_lexer": "ipython3",
   "version": "3.11.5"
  }
 },
 "nbformat": 4,
 "nbformat_minor": 5
}
